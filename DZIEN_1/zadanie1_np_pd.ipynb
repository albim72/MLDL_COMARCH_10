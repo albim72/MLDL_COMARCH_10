{
 "cells":[
  {
   "cell_type":"code",
   "source":[
    "from __future__ import annotations\n",
    "import os, io, math, json\n",
    "from datetime import datetime, timedelta\n",
    "from typing import List, Tuple\n",
    "import numpy as np\n",
    "import pandas as pd\n",
    "import matplotlib.pyplot as plt"
   ],
   "execution_count":2,
   "outputs":[],
   "metadata":{
    "datalore":{
     "node_id":"KM9tEaNum7bohBELUbwTeg",
     "type":"CODE",
     "hide_input_from_viewers":true,
     "hide_output_from_viewers":true
    }
   }
  },
  {
   "cell_type":"code",
   "source":[
    "# ------------------------- 0) Ustawienia ogólne ------------------------------\n",
    "np.random.seed(42)\n",
    "OUTPUT_DIR = \".\/wyniki\"\n",
    "os.makedirs(OUTPUT_DIR, exist_ok=True)"
   ],
   "execution_count":3,
   "outputs":[],
   "metadata":{
    "datalore":{
     "node_id":"jFbawDnAcPwGT613wzpTbU",
     "type":"CODE",
     "hide_input_from_viewers":true,
     "hide_output_from_viewers":true
    }
   }
  },
  {
   "cell_type":"code",
   "source":[
    "# ------------------------- 1) Generacja 'open-like' CSV ----------------------\n",
    "cities = [\n",
    "    (\"Warszawa\", \"Mazowieckie\", 1790658),\n",
    "    (\"Kraków\", \"Małopolskie\", 803282),\n",
    "    (\"Gdańsk\", \"Pomorskie\", 486022),\n",
    "    (\"Wrocław\", \"Dolnośląskie\", 675079),\n",
    "    (\"Poznań\", \"Wielkopolskie\", 546859),\n",
    "    (\"Lublin\", \"Lubelskie\", 336339),\n",
    "    (\"Szczecin\", \"Zachodniopomorskie\", 392379),\n",
    "    (\"Katowice\", \"Śląskie\", 286960),\n",
    "]\n",
    "city_names = [c[0] for c in cities]\n",
    "city_weights = np.array([c[2] for c in cities], dtype=float); city_weights \/= city_weights.sum()\n",
    "\n",
    "n_rows = 50_000\n",
    "start_date = datetime(2024, 1, 1)\n",
    "end_date = datetime(2024, 12, 31, 23, 59, 59)"
   ],
   "execution_count":4,
   "outputs":[],
   "metadata":{
    "datalore":{
     "node_id":"QIqY0UFakhKsnnnuNcZrBQ",
     "type":"CODE",
     "hide_input_from_viewers":true,
     "hide_output_from_viewers":true
    }
   }
  },
  {
   "cell_type":"code",
   "source":[
    "def random_timestamp(size: int) -> np.ndarray:\n",
    "    \"\"\"Losuje znaczniki czasu w 2024 r., z pikami porannymi i popołudniowymi.\"\"\"\n",
    "    total_seconds = int((end_date - start_date).total_seconds())\n",
    "    base = np.random.randint(0, total_seconds, size=size)\n",
    "    ts = np.array([start_date + timedelta(seconds=int(b)) for b in base])\n",
    "    # piki\n",
    "    idx_morning = np.random.choice(size, size \/\/ 5, replace=False)\n",
    "    idx_evening = np.random.choice(size, size \/\/ 5, replace=False)\n",
    "    ts[idx_morning] = ts[idx_morning].astype(\"datetime64[h]\").astype(datetime)\n",
    "    ts[idx_evening] = ts[idx_evening].astype(\"datetime64[h]\").astype(datetime)\n",
    "    ts[idx_morning] = np.array([t.replace(hour=8, minute=np.random.randint(0, 60)) for t in ts[idx_morning]])\n",
    "    ts[idx_evening] = np.array([t.replace(hour=17, minute=np.random.randint(0, 60)) for t in ts[idx_evening]])\n",
    "    return ts"
   ],
   "execution_count":5,
   "outputs":[],
   "metadata":{
    "datalore":{
     "node_id":"xOqjrzitOPSi38GJqNl396",
     "type":"CODE",
     "hide_input_from_viewers":true,
     "hide_output_from_viewers":true
    }
   }
  },
  {
   "cell_type":"code",
   "source":[
    "ride_id = np.arange(1, n_rows + 1)\n",
    "ts = random_timestamp(n_rows)\n",
    "city = np.random.choice(city_names, size=n_rows, p=city_weights)\n",
    "driver_id = np.random.randint(1000, 5000, size=n_rows)\n",
    "\n",
    "base_distance = np.clip(np.random.gamma(shape=2.0, scale=2.0, size=n_rows), 0.5, None)\n",
    "hour = np.array([t.hour for t in ts])\n",
    "traffic_factor = np.where((hour >= 7) & (hour <= 9), 1.3,\n",
    "                   np.where((hour >= 16) & (hour <= 19), 1.25, 1.0))\n",
    "duration_min = np.clip(base_distance * np.random.uniform(3.5, 5.0, size=n_rows) * traffic_factor, 5, None)\n",
    "rain = np.random.binomial(1, 0.15, size=n_rows)\n",
    "weekday = np.array([t.weekday() for t in ts])\n",
    "weekend = ((weekday >= 5).astype(int))\n",
    "\n",
    "city_base = {\n",
    "    \"Warszawa\": 5.8, \"Kraków\": 5.2, \"Gdańsk\": 5.0, \"Wrocław\": 5.1,\n",
    "    \"Poznań\": 5.0, \"Lublin\": 4.6, \"Szczecin\": 4.8, \"Katowice\": 4.9\n",
    "}\n",
    "base_fare_per_km = np.array([city_base[c] for c in city])\n",
    "surge_mult = 1.0 + np.where(((hour >= 7) & (hour <= 9)) | ((hour >= 16) & (hour <= 19)), 0.25, 0.0)\n",
    "surge_mult += 0.2 * rain\n",
    "surge_mult = np.round(surge_mult, 2)\n",
    "\n",
    "distance_km = np.round(base_distance, 2)\n",
    "base_fare_pln = np.round(distance_km * base_fare_per_km, 2)\n",
    "fare_pln = np.round(base_fare_pln * surge_mult, 2)\n",
    "\n",
    "df = pd.DataFrame({\n",
    "    \"ride_id\": ride_id,\n",
    "    \"timestamp\": ts,\n",
    "    \"city\": city,\n",
    "    \"driver_id\": driver_id,\n",
    "    \"distance_km\": distance_km,\n",
    "    \"duration_min\": np.round(duration_min, 1),\n",
    "    \"base_fare_pln\": base_fare_pln,\n",
    "    \"surge_mult\": surge_mult,\n",
    "    \"fare_pln\": fare_pln,\n",
    "    \"rain\": rain,\n",
    "    \"weekend\": weekend\n",
    "})\n",
    "df_cities = pd.DataFrame(cities, columns=[\"city\", \"region\", \"population\"])\n",
    "\n",
    "RAW_CSV = os.path.join(OUTPUT_DIR, \"rides_raw.csv\")\n",
    "df.to_csv(RAW_CSV, index=False)\n",
    "\n",
    "# Podstawowe info\n",
    "buf = io.StringIO(); df.info(buf=buf)\n",
    "print(buf.getvalue())\n",
    "print(df.select_dtypes(include=[np.number]).describe().T)"
   ],
   "execution_count":7,
   "outputs":[
    {
     "name":"stdout",
     "text":[
      "<class 'pandas.core.frame.DataFrame'>\n",
      "RangeIndex: 50000 entries, 0 to 49999\n",
      "Data columns (total 11 columns):\n",
      " #   Column         Non-Null Count  Dtype         \n",
      "---  ------         --------------  -----         \n",
      " 0   ride_id        50000 non-null  int64         \n",
      " 1   timestamp      50000 non-null  datetime64[ns]\n",
      " 2   city           50000 non-null  object        \n",
      " 3   driver_id      50000 non-null  int64         \n",
      " 4   distance_km    50000 non-null  float64       \n",
      " 5   duration_min   50000 non-null  float64       \n",
      " 6   base_fare_pln  50000 non-null  float64       \n",
      " 7   surge_mult     50000 non-null  float64       \n",
      " 8   fare_pln       50000 non-null  float64       \n",
      " 9   rain           50000 non-null  int64         \n",
      " 10  weekend        50000 non-null  int64         \n",
      "dtypes: datetime64[ns](1), float64(5), int64(4), object(1)\n",
      "memory usage: 4.2+ MB\n",
      "\n",
      "                 count          mean           std     min       25%  \\\n",
      "ride_id        50000.0  25000.500000  14433.901067     1.0  12500.75   \n",
      "driver_id      50000.0   3000.349160   1152.690979  1000.0   2005.00   \n",
      "distance_km    50000.0      3.985588      2.809135     0.5      1.91   \n",
      "duration_min   50000.0     19.609688     14.059144     5.0      9.10   \n",
      "base_fare_pln  50000.0     20.996082     14.941291     2.3     10.00   \n",
      "surge_mult     50000.0      1.166119      0.143305     1.0      1.00   \n",
      "fare_pln       50000.0     24.468445     17.754812     2.3     11.48   \n",
      "rain           50000.0      0.147820      0.354925     0.0      0.00   \n",
      "weekend        50000.0      0.286740      0.452244     0.0      0.00   \n",
      "\n",
      "                     50%       75%       max  \n",
      "ride_id        25000.500  37500.25  50000.00  \n",
      "driver_id       2999.000   3999.00   4999.00  \n",
      "distance_km        3.345      5.36     31.39  \n",
      "duration_min      16.100     26.10    144.10  \n",
      "base_fare_pln     17.520     28.18    182.06  \n",
      "surge_mult         1.250      1.25      1.45  \n",
      "fare_pln          20.240     32.76    191.15  \n",
      "rain               0.000      0.00      1.00  \n",
      "weekend            0.000      1.00      1.00  \n"
     ],
     "output_type":"stream"
    }
   ],
   "metadata":{
    "datalore":{
     "node_id":"8HzifoidXgk4hkB3pMmKwR",
     "type":"CODE",
     "hide_input_from_viewers":true,
     "hide_output_from_viewers":true
    }
   }
  },
  {
   "cell_type":"code",
   "source":[
    "# ------------------------- 2) Czyszczenie i typy -----------------------------\n",
    "def standardize_columns(columns: List[str]) -> List[str]:\n",
    "    return [c.strip().lower().replace(\" \", \"_\") for c in columns]\n",
    "\n",
    "df.columns = standardize_columns(df.columns)\n",
    "df[\"timestamp\"] = pd.to_datetime(df[\"timestamp\"], errors=\"coerce\")\n",
    "df[\"duration_min\"] = df[\"duration_min\"].fillna(df[\"duration_min\"].median())\n",
    "df[\"fare_pln\"] = df[\"fare_pln\"].fillna(df[\"base_fare_pln\"] * df[\"surge_mult\"])"
   ],
   "execution_count":8,
   "outputs":[],
   "metadata":{
    "datalore":{
     "node_id":"zGngFvL5mUiS8sJkIJkBKM",
     "type":"CODE",
     "hide_input_from_viewers":true,
     "hide_output_from_viewers":true
    }
   }
  },
  {
   "cell_type":"code",
   "source":[
    "# ------------------------- 3) NumPy – transformacje --------------------------\n",
    "dist_mean = df[\"distance_km\"].mean()\n",
    "dist_std = df[\"distance_km\"].std(ddof=0) or 1.0\n",
    "df[\"distance_z\"] = (df[\"distance_km\"] - dist_mean) \/ dist_std\n",
    "df[\"fare_log1p\"] = np.log1p(df[\"fare_pln\"])\n",
    "q = df[\"duration_min\"].quantile([0.33, 0.66]).values\n",
    "df[\"duration_bin\"] = np.where(df[\"duration_min\"] <= q[0], \"short\",\n",
    "                       np.where(df[\"duration_min\"] <= q[1], \"medium\", \"long\"))\n",
    "problem_mask = (df[\"distance_km\"] < 1.0) & (df[\"surge_mult\"] >= 1.4) & (df[\"rain\"] == 1)\n",
    "df_problem = df.loc[problem_mask].copy()"
   ],
   "execution_count":9,
   "outputs":[],
   "metadata":{
    "datalore":{
     "node_id":"OeOxIcBjDgCCZeiL5OyzH7",
     "type":"CODE",
     "hide_input_from_viewers":true,
     "hide_output_from_viewers":true
    }
   }
  },
  {
   "cell_type":"code",
   "source":[
    "# ------------------------- 4) Agregacje i grupowanie -------------------------\n",
    "agg_city = (\n",
    "    df.groupby(\"city\")\n",
    "      .agg(total_revenue_pln=(\"fare_pln\", \"sum\"),\n",
    "           trips=(\"ride_id\", \"count\"),\n",
    "           avg_km=(\"distance_km\", \"mean\"))\n",
    "      .sort_values(\"total_revenue_pln\", ascending=False)\n",
    ")\n",
    "df[\"month\"] = df[\"timestamp\"].dt.to_period(\"M\").astype(str)\n",
    "agg_city_month = (\n",
    "    df.groupby([\"city\", \"month\"])\n",
    "      .agg(month_revenue_pln=(\"fare_pln\", \"sum\"),\n",
    "           trips=(\"ride_id\", \"count\"))\n",
    "      .reset_index()\n",
    ")\n",
    "df[\"fare_per_km\"] = np.where(df[\"distance_km\"] > 0, df[\"fare_pln\"] \/ df[\"distance_km\"], np.nan)\n",
    "agg_fare_km = (\n",
    "    df.groupby([\"city\", \"weekend\"])\n",
    "      .agg(avg_fare_per_km=(\"fare_per_km\", \"mean\"),\n",
    "           trips=(\"ride_id\", \"count\"))\n",
    "      .reset_index()\n",
    "      .sort_values([\"city\", \"weekend\"])\n",
    ")"
   ],
   "execution_count":10,
   "outputs":[],
   "metadata":{
    "datalore":{
     "node_id":"0qmSjYPCiD3ZlmgnFSwF46",
     "type":"CODE",
     "hide_input_from_viewers":true,
     "hide_output_from_viewers":true
    }
   }
  },
  {
   "cell_type":"code",
   "source":[
    "# ------------------------- 5) Czas: resampling i rolling ---------------------\n",
    "df_time = df.set_index(\"timestamp\").sort_index()\n",
    "daily_rev = df_time[\"fare_pln\"].resample(\"D\").sum().to_frame(\"daily_revenue_pln\")\n",
    "daily_rev[\"daily_revenue_pln_ma7\"] = daily_rev[\"daily_revenue_pln\"].rolling(7, min_periods=1).mean()\n",
    "\n",
    "monthly_city = (\n",
    "    df_time\n",
    "    .groupby(\"city\")[\"fare_pln\"]\n",
    "    .resample(\"ME\")\n",
    "    .sum()\n",
    "    .rename(\"monthly_revenue_pln\")\n",
    "    .reset_index()\n",
    ")"
   ],
   "execution_count":12,
   "outputs":[],
   "metadata":{
    "datalore":{
     "node_id":"Li2NKY0Vfjx4EFILLIpPwX",
     "type":"CODE",
     "hide_input_from_viewers":true,
     "hide_output_from_viewers":true
    }
   }
  },
  {
   "cell_type":"code",
   "source":[
    "# ------------------------- 6) Merge z tabelą miast ---------------------------\n",
    "df_merged = agg_city.reset_index().merge(\n",
    "    df_cities, how=\"left\", on=\"city\", indicator=True\n",
    ")\n",
    "orphans = df_merged[df_merged[\"_merge\"] != \"both\"]\n",
    "print(\"Sieroty po merge:\", len(orphans))"
   ],
   "execution_count":13,
   "outputs":[
    {
     "name":"stdout",
     "text":[
      "Sieroty po merge: 0\n"
     ],
     "output_type":"stream"
    }
   ],
   "metadata":{
    "datalore":{
     "node_id":"hpAKNHwMj78UycrQeRY7hv",
     "type":"CODE",
     "hide_input_from_viewers":true,
     "hide_output_from_viewers":true
    }
   }
  },
  {
   "cell_type":"code",
   "source":[
    "# ------------------------- 7) Pivot -----------------------------------------\n",
    "agg_city_month_reg = agg_city_month.merge(df_cities, on=\"city\", how=\"left\")\n",
    "pivot_region_month = pd.pivot_table(\n",
    "    agg_city_month_reg,\n",
    "    index=\"region\",\n",
    "    columns=\"month\",\n",
    "    values=\"month_revenue_pln\",\n",
    "    aggfunc=\"sum\",\n",
    "    fill_value=0.0,\n",
    ")"
   ],
   "execution_count":14,
   "outputs":[],
   "metadata":{
    "datalore":{
     "node_id":"xorbLQqIlSplIDSurIontm",
     "type":"CODE",
     "hide_input_from_viewers":true,
     "hide_output_from_viewers":true
    }
   }
  },
  {
   "cell_type":"code",
   "source":[
    "# ------------------------- 8) Walidacja -------------------------------------\n",
    "walidacja = {\n",
    "    \"brak_ujemnych_fare_pln\": bool((df[\"fare_pln\"] >= 0).all()),\n",
    "    \"liczba_unikalnych_miast_po_merge\": int(df_merged[\"city\"].nunique()),\n",
    "    \"brak_sierot_po_merge\": bool(orphans.empty),\n",
    "}\n",
    "sum_global = float(df[\"fare_pln\"].sum())\n",
    "sum_monthly = float(agg_city_month[\"month_revenue_pln\"].sum())\n",
    "walidacja[\"suma_miesieczna_vs_globalna_ok\"] = bool(abs(sum_global - sum_monthly) < 1e-6)\n",
    "print(\"Walidacja:\", walidacja)"
   ],
   "execution_count":15,
   "outputs":[
    {
     "name":"stdout",
     "text":[
      "Walidacja: {'brak_ujemnych_fare_pln': True, 'liczba_unikalnych_miast_po_merge': 8, 'brak_sierot_po_merge': True, 'suma_miesieczna_vs_globalna_ok': True}\n"
     ],
     "output_type":"stream"
    }
   ],
   "metadata":{
    "datalore":{
     "node_id":"rzNX3jBeF51tzgCs3G17Cd",
     "type":"CODE",
     "hide_input_from_viewers":true,
     "hide_output_from_viewers":true
    }
   }
  },
  {
   "cell_type":"code",
   "source":[
    "# ------------------------- 9) Eksport wyników --------------------------------\n",
    "AGG_CSV = os.path.join(OUTPUT_DIR, \"wyniki_agregacje.csv\")\n",
    "PIVOT_CSV = os.path.join(OUTPUT_DIR, \"wyniki_pivot.csv\")\n",
    "SAMPLE_CSV = os.path.join(OUTPUT_DIR, \"sample_100.csv\")\n",
    "WNIOSEK_FILE = os.path.join(OUTPUT_DIR, \"wnioski.txt\")\n",
    "PLOT_FILE = os.path.join(OUTPUT_DIR, \"daily_revenue_plot.png\")\n",
    "\n",
    "agg_city.to_csv(AGG_CSV)\n",
    "pivot_region_month.to_csv(PIVOT_CSV)\n",
    "df.sample(100, random_state=42).to_csv(SAMPLE_CSV, index=False)\n",
    "\n",
    "miasto_top = agg_city.reset_index().iloc[0][\"city\"]\n",
    "region_top = (\n",
    "    df_merged.groupby(\"region\")[\"total_revenue_pln\"]\n",
    "    .sum()\n",
    "    .sort_values(ascending=False)\n",
    "    .index[0]\n",
    ")"
   ],
   "execution_count":16,
   "outputs":[],
   "metadata":{
    "datalore":{
     "node_id":"qmNpeKNGKBT0J55tWtbUPW",
     "type":"CODE",
     "hide_input_from_viewers":true,
     "hide_output_from_viewers":true
    }
   }
  },
  {
   "cell_type":"code",
   "source":[
    "WNIOSEK_TXT = f\"\"\"\n",
    "Wnioski\n",
    "1) Najwyższe skumulowane przychody generuje miasto: {miasto_top}.\n",
    "2) Średnia stawka za kilometr rośnie w godzinach szczytu i podczas opadów (surge).\n",
    "3) Największą łączną wartość miesięcznych przychodów w przekroju regionów uzyskuje: {region_top}.\n",
    "4) Ograniczenie „przejazdów problematycznych” (krótkie + deszcz + wysoki surge) poprawi stabilność marży.\n",
    "5) Dalsze kroki: powiązać dzienne przychody z danymi pogodowymi i kalendarzem (święta\/eventy).\n",
    "\"\"\".strip()\n",
    "with open(WNIOSEK_FILE, \"w\", encoding=\"utf-8\") as f:\n",
    "    f.write(WNIOSEK_TXT)"
   ],
   "execution_count":17,
   "outputs":[],
   "metadata":{
    "datalore":{
     "node_id":"r6rP9MUjXVyHCXKTZSHXVF",
     "type":"CODE",
     "hide_input_from_viewers":true,
     "hide_output_from_viewers":true
    }
   }
  },
  {
   "cell_type":"code",
   "source":[
    "# ------------------------- BONUS: wizualizacja -------------------------------\n",
    "plt.figure(figsize=(10, 4))\n",
    "plt.plot(daily_rev.index, daily_rev[\"daily_revenue_pln\"], label=\"Przychód dzienny\")\n",
    "plt.plot(daily_rev.index, daily_rev[\"daily_revenue_pln_ma7\"], label=\"MA7\")\n",
    "plt.title(\"Dzienne przychody z przejazdów (MA7)\")\n",
    "plt.xlabel(\"Data\"); plt.ylabel(\"PLN\"); plt.legend()\n",
    "plt.tight_layout(); plt.savefig(PLOT_FILE, dpi=160); plt.close()\n",
    "\n",
    "print(\"Zapisano pliki:\", {\n",
    "    \"wyniki_agregacje.csv\": AGG_CSV,\n",
    "    \"wyniki_pivot.csv\": PIVOT_CSV,\n",
    "    \"sample_100.csv\": SAMPLE_CSV,\n",
    "    \"rides_raw.csv\": RAW_CSV,\n",
    "    \"wnioski.txt\": WNIOSEK_FILE,\n",
    "    \"daily_revenue_plot.png\": PLOT_FILE,\n",
    "})"
   ],
   "execution_count":18,
   "outputs":[
    {
     "name":"stdout",
     "text":[
      "Zapisano pliki: {'wyniki_agregacje.csv': '.\/wyniki\/wyniki_agregacje.csv', 'wyniki_pivot.csv': '.\/wyniki\/wyniki_pivot.csv', 'sample_100.csv': '.\/wyniki\/sample_100.csv', 'rides_raw.csv': '.\/wyniki\/rides_raw.csv', 'wnioski.txt': '.\/wyniki\/wnioski.txt', 'daily_revenue_plot.png': '.\/wyniki\/daily_revenue_plot.png'}\n"
     ],
     "output_type":"stream"
    }
   ],
   "metadata":{
    "datalore":{
     "node_id":"BTOSUfstWNE5UnZriNAutU",
     "type":"CODE",
     "hide_input_from_viewers":true,
     "hide_output_from_viewers":true
    }
   }
  }
 ],
 "metadata":{
  "kernelspec":{
   "display_name":"Python",
   "language":"python",
   "name":"python"
  },
  "datalore":{
   "computation_mode":"JUPYTER",
   "package_manager":"pip",
   "base_environment":"default_3_11",
   "packages":[],
   "report_row_ids":[],
   "report_tabs":[],
   "version":4
  }
 },
 "nbformat":4,
 "nbformat_minor":4
}