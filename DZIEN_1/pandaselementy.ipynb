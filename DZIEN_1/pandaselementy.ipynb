{
 "cells":[
  {
   "cell_type":"code",
   "source":[
    "import pandas as pd\n",
    "import numpy as np"
   ],
   "execution_count":1,
   "outputs":[],
   "metadata":{
    "datalore":{
     "node_id":"kdgmppG2GY59kY6EMEDXTl",
     "type":"CODE",
     "hide_input_from_viewers":true,
     "hide_output_from_viewers":true
    }
   }
  },
  {
   "cell_type":"code",
   "source":[
    "s1 = pd.Series([4,2,5,3,7,3,7,3,8,9],index=['a','b','c','f','d','r','y','p','s','z'],name='wartosc')"
   ],
   "execution_count":5,
   "outputs":[],
   "metadata":{
    "datalore":{
     "node_id":"17w26gBHPJCmfHdOlMr7CT",
     "type":"CODE",
     "hide_input_from_viewers":true,
     "hide_output_from_viewers":true
    }
   }
  },
  {
   "cell_type":"code",
   "source":[
    "s1"
   ],
   "execution_count":3,
   "outputs":[
    {
     "data":{
      "text\/html":[
       "<pre>a    4\n",
       "b    2\n",
       "c    5\n",
       "f    3\n",
       "d    7\n",
       "r    3\n",
       "y    7\n",
       "p    3\n",
       "s    8\n",
       "z    9\n",
       "Name: wartosc, dtype: int64<\/pre>"
      ]
     },
     "metadata":{},
     "output_type":"display_data"
    }
   ],
   "metadata":{
    "datalore":{
     "node_id":"UFjZ32IuNqysukvs1VFuCM",
     "type":"CODE",
     "hide_input_from_viewers":true,
     "hide_output_from_viewers":true
    }
   }
  },
  {
   "cell_type":"code",
   "source":[
    "sdata = {'Warszawa':12435,'Lublin':8553,'Kraków':9876,'Gdańsk':7847}\n",
    "s2 = pd.Series(sdata,name='wnioski')\n",
    "s2"
   ],
   "execution_count":6,
   "outputs":[
    {
     "data":{
      "text\/html":[
       "<pre>Warszawa    12435\n",
       "Lublin       8553\n",
       "Kraków       9876\n",
       "Gdańsk       7847\n",
       "Name: wnioski, dtype: int64<\/pre>"
      ]
     },
     "metadata":{},
     "output_type":"display_data"
    }
   ],
   "metadata":{
    "datalore":{
     "node_id":"5mVfRuunE7xRKyxcXK8B6C",
     "type":"CODE",
     "hide_input_from_viewers":true,
     "hide_output_from_viewers":true
    }
   }
  },
  {
   "cell_type":"code",
   "source":[
    "data = {'miasto':['Warszawa','Lublin','Wrocław','Kraków'],\n",
    "        'wnioski':[13455,10454,11235,11234],\n",
    "        'projekty':[7,6,6,8]}\n",
    "\n",
    "frame = pd.DataFrame(data,index=[10,11,12,13])\n",
    "frame"
   ],
   "execution_count":7,
   "outputs":[
    {
     "data":{
      "text\/html":[
       "<div>\n",
       "<style scoped>\n",
       "    .dataframe tbody tr th:only-of-type {\n",
       "        vertical-align: middle;\n",
       "    }\n",
       "\n",
       "    .dataframe tbody tr th {\n",
       "        vertical-align: top;\n",
       "    }\n",
       "\n",
       "    .dataframe thead th {\n",
       "        text-align: right;\n",
       "    }\n",
       "<\/style>\n",
       "<table border=\"1\" class=\"dataframe\">\n",
       "  <thead>\n",
       "    <tr style=\"text-align: right;\">\n",
       "      <th><\/th>\n",
       "      <th>miasto<\/th>\n",
       "      <th>wnioski<\/th>\n",
       "      <th>projekty<\/th>\n",
       "    <\/tr>\n",
       "  <\/thead>\n",
       "  <tbody>\n",
       "    <tr>\n",
       "      <th>10<\/th>\n",
       "      <td>Warszawa<\/td>\n",
       "      <td>13455<\/td>\n",
       "      <td>7<\/td>\n",
       "    <\/tr>\n",
       "    <tr>\n",
       "      <th>11<\/th>\n",
       "      <td>Lublin<\/td>\n",
       "      <td>10454<\/td>\n",
       "      <td>6<\/td>\n",
       "    <\/tr>\n",
       "    <tr>\n",
       "      <th>12<\/th>\n",
       "      <td>Wrocław<\/td>\n",
       "      <td>11235<\/td>\n",
       "      <td>6<\/td>\n",
       "    <\/tr>\n",
       "    <tr>\n",
       "      <th>13<\/th>\n",
       "      <td>Kraków<\/td>\n",
       "      <td>11234<\/td>\n",
       "      <td>8<\/td>\n",
       "    <\/tr>\n",
       "  <\/tbody>\n",
       "<\/table>\n",
       "<\/div>"
      ]
     },
     "metadata":{},
     "output_type":"display_data"
    }
   ],
   "metadata":{
    "datalore":{
     "node_id":"p4Y3bByoFiLQoSVArETm6F",
     "type":"CODE",
     "hide_input_from_viewers":true,
     "hide_output_from_viewers":true
    }
   }
  },
  {
   "cell_type":"code",
   "source":[
    "daty = pd.date_range(\"20251020\",periods=6)\n",
    "daty"
   ],
   "execution_count":8,
   "outputs":[
    {
     "data":{
      "text\/plain":[
       "DatetimeIndex(['2025-10-20', '2025-10-21', '2025-10-22', '2025-10-23',\n",
       "               '2025-10-24', '2025-10-25'],\n",
       "              dtype='datetime64[ns]', freq='D')"
      ]
     },
     "metadata":{},
     "output_type":"display_data"
    }
   ],
   "metadata":{
    "datalore":{
     "node_id":"7VBinDRZlbKrEk1EsLh34Y",
     "type":"CODE",
     "hide_input_from_viewers":true,
     "hide_output_from_viewers":true
    }
   }
  },
  {
   "cell_type":"code",
   "source":[
    "df = pd.DataFrame(np.random.randn(6,4),index=daty,columns=list(\"ABCD\"))\n",
    "df"
   ],
   "execution_count":9,
   "outputs":[
    {
     "data":{
      "text\/html":[
       "<div>\n",
       "<style scoped>\n",
       "    .dataframe tbody tr th:only-of-type {\n",
       "        vertical-align: middle;\n",
       "    }\n",
       "\n",
       "    .dataframe tbody tr th {\n",
       "        vertical-align: top;\n",
       "    }\n",
       "\n",
       "    .dataframe thead th {\n",
       "        text-align: right;\n",
       "    }\n",
       "<\/style>\n",
       "<table border=\"1\" class=\"dataframe\">\n",
       "  <thead>\n",
       "    <tr style=\"text-align: right;\">\n",
       "      <th><\/th>\n",
       "      <th>A<\/th>\n",
       "      <th>B<\/th>\n",
       "      <th>C<\/th>\n",
       "      <th>D<\/th>\n",
       "    <\/tr>\n",
       "  <\/thead>\n",
       "  <tbody>\n",
       "    <tr>\n",
       "      <th>2025-10-20<\/th>\n",
       "      <td>1.406888<\/td>\n",
       "      <td>-0.384862<\/td>\n",
       "      <td>0.024834<\/td>\n",
       "      <td>-0.844515<\/td>\n",
       "    <\/tr>\n",
       "    <tr>\n",
       "      <th>2025-10-21<\/th>\n",
       "      <td>-0.099843<\/td>\n",
       "      <td>1.300787<\/td>\n",
       "      <td>0.458608<\/td>\n",
       "      <td>0.670573<\/td>\n",
       "    <\/tr>\n",
       "    <tr>\n",
       "      <th>2025-10-22<\/th>\n",
       "      <td>0.156983<\/td>\n",
       "      <td>1.146551<\/td>\n",
       "      <td>-0.287878<\/td>\n",
       "      <td>1.421631<\/td>\n",
       "    <\/tr>\n",
       "    <tr>\n",
       "      <th>2025-10-23<\/th>\n",
       "      <td>0.832417<\/td>\n",
       "      <td>-0.439229<\/td>\n",
       "      <td>-0.347729<\/td>\n",
       "      <td>-0.880293<\/td>\n",
       "    <\/tr>\n",
       "    <tr>\n",
       "      <th>2025-10-24<\/th>\n",
       "      <td>0.941710<\/td>\n",
       "      <td>0.562829<\/td>\n",
       "      <td>0.594704<\/td>\n",
       "      <td>0.809146<\/td>\n",
       "    <\/tr>\n",
       "    <tr>\n",
       "      <th>2025-10-25<\/th>\n",
       "      <td>-1.298010<\/td>\n",
       "      <td>0.159870<\/td>\n",
       "      <td>-0.557192<\/td>\n",
       "      <td>-0.158344<\/td>\n",
       "    <\/tr>\n",
       "  <\/tbody>\n",
       "<\/table>\n",
       "<\/div>"
      ]
     },
     "metadata":{},
     "output_type":"display_data"
    }
   ],
   "metadata":{
    "datalore":{
     "node_id":"0qPBLITNT6HHEHohUqRYKe",
     "type":"CODE",
     "hide_input_from_viewers":true,
     "hide_output_from_viewers":true
    }
   }
  },
  {
   "cell_type":"code",
   "source":[
    "m = \"ABCD\"\n",
    "m"
   ],
   "execution_count":10,
   "outputs":[
    {
     "data":{
      "text\/plain":[
       "'ABCD'"
      ]
     },
     "metadata":{},
     "output_type":"display_data"
    }
   ],
   "metadata":{
    "datalore":{
     "node_id":"bqUyJLR4Wvv4VroKyPkgho",
     "type":"CODE",
     "hide_input_from_viewers":true,
     "hide_output_from_viewers":true
    }
   }
  },
  {
   "cell_type":"code",
   "source":[
    "m[0]"
   ],
   "execution_count":11,
   "outputs":[
    {
     "data":{
      "text\/plain":[
       "'A'"
      ]
     },
     "metadata":{},
     "output_type":"display_data"
    }
   ],
   "metadata":{
    "datalore":{
     "node_id":"BSGT9VFGAYudfzDqRdMwWO",
     "type":"CODE",
     "hide_input_from_viewers":true,
     "hide_output_from_viewers":true
    }
   }
  },
  {
   "cell_type":"code",
   "source":[
    "m[2]"
   ],
   "execution_count":12,
   "outputs":[
    {
     "data":{
      "text\/plain":[
       "'C'"
      ]
     },
     "metadata":{},
     "output_type":"display_data"
    }
   ],
   "metadata":{
    "datalore":{
     "node_id":"RQWSHQoBZyDfOEHCyLN88i",
     "type":"CODE",
     "hide_input_from_viewers":true,
     "hide_output_from_viewers":true
    }
   }
  },
  {
   "cell_type":"code",
   "source":[
    "m[1:3]"
   ],
   "execution_count":13,
   "outputs":[
    {
     "data":{
      "text\/plain":[
       "'BC'"
      ]
     },
     "metadata":{},
     "output_type":"display_data"
    }
   ],
   "metadata":{
    "datalore":{
     "node_id":"k2cO0taEJzhXyNuYG4oj0x",
     "type":"CODE",
     "hide_input_from_viewers":true,
     "hide_output_from_viewers":true
    }
   }
  }
 ],
 "metadata":{
  "kernelspec":{
   "display_name":"Python",
   "language":"python",
   "name":"python"
  },
  "datalore":{
   "computation_mode":"JUPYTER",
   "package_manager":"pip",
   "base_environment":"default_3_11",
   "packages":[],
   "report_row_ids":[],
   "report_tabs":[],
   "version":4
  }
 },
 "nbformat":4,
 "nbformat_minor":4
}